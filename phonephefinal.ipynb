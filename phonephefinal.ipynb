{
 "cells": [
  {
   "cell_type": "code",
   "execution_count": 1,
   "metadata": {},
   "outputs": [],
   "source": [
    "import pandas as pd\n",
    "import psycopg2\n",
    "import plotly.express as px\n",
    "import json\n",
    "import requests\n"
   ]
  },
  {
   "cell_type": "code",
   "execution_count": 2,
   "metadata": {},
   "outputs": [],
   "source": [
    "#dataframe creation\n",
    "\n",
    "#sql connection\n",
    "mydb=psycopg2.connect(host=\"127.0.0.1\",\n",
    "                user=\"postgres\",\n",
    "                password=\"hari\",\n",
    "                port=\"5432\",\n",
    "                database=\"phonephedata\")\n",
    "\n",
    "cursor=mydb.cursor()\n",
    "\n",
    "#agg insurance df\n",
    "\n",
    "cursor.execute(\"SELECT * FROM aggregated_insurance\")\n",
    "mydb.commit()\n",
    "table1=cursor.fetchall()\n",
    "\n",
    "Agg_insurance=pd.DataFrame(table1,columns=(\"States\",\"Years\",\"Quarters\",\"Transaction_type\",\"Transaction_count\",\"Transaction_amount\"))\n",
    "\n",
    "#agg transa df\n",
    "\n",
    "cursor.execute(\"SELECT * FROM aggregated_transaction\")\n",
    "mydb.commit()\n",
    "table2=cursor.fetchall()\n",
    "\n",
    "Agg_transaction=pd.DataFrame(table2,columns=(\"States\",\"Years\",\"Quarters\",\"Transaction_type\",\"Transaction_count\",\"Transaction_amount\"))\n",
    "\n",
    "#agg user df\n",
    "\n",
    "cursor.execute(\"SELECT * FROM aggregated_user\")\n",
    "mydb.commit()\n",
    "table3=cursor.fetchall() \n",
    "\n",
    "Agg_user=pd.DataFrame(table3,columns=(\"States\",\"Years\",\"Quarters\",\"Brands\",\"Transaction_count\",\"Percentage\"))\n",
    "\n",
    "#map user df\n",
    "\n",
    "cursor.execute(\"SELECT * FROM map_user\")\n",
    "mydb.commit()\n",
    "table4=cursor.fetchall() \n",
    "\n",
    "Map_user=pd.DataFrame(table4,columns=(\"States\",\"Years\",\"Quarters\",\"District\",\"RegisteredUsers\",\"AppOpens\"))\n",
    "\n",
    "#map insurance df\n",
    "\n",
    "cursor.execute(\"SELECT * FROM map_insurance\")\n",
    "mydb.commit()\n",
    "table5=cursor.fetchall()\n",
    "\n",
    "Map_insurance=pd.DataFrame(table5,columns=(\"States\",\"Years\",\"Quarters\",\"District\",\"Transaction_count\",\"Transaction_amount\"))\n",
    "\n",
    "#map transa df\n",
    "\n",
    "cursor.execute(\"SELECT * FROM map_transaction\")\n",
    "mydb.commit()\n",
    "table6=cursor.fetchall()\n",
    "\n",
    "Map_transaction=pd.DataFrame(table6,columns=(\"States\",\"Years\",\"Quarters\",\"District\",\"Transaction_count\",\"Transaction_amount\"))\n",
    "\n",
    "#top insurance df\n",
    "\n",
    "cursor.execute(\"SELECT * FROM top_insurance\")\n",
    "mydb.commit()\n",
    "table7=cursor.fetchall()\n",
    "\n",
    "Top_insurance=pd.DataFrame(table7,columns=(\"States\",\"Years\",\"Quarters\",\"Pincode\",\"Transaction_count\",\"Transaction_amount\"))\n",
    "\n",
    "#top transa df\n",
    "\n",
    "cursor.execute(\"SELECT * FROM top_transaction\")\n",
    "mydb.commit()\n",
    "table8=cursor.fetchall()\n",
    "\n",
    "Top_transaction=pd.DataFrame(table8,columns=(\"States\",\"Years\",\"Quarters\",\"Pincode\",\"Transaction_count\",\"Transaction_amount\"))\n",
    "\n",
    "#top user df\n",
    "\n",
    "cursor.execute(\"SELECT * FROM top_user\")\n",
    "mydb.commit()\n",
    "table9=cursor.fetchall()\n",
    "\n",
    "Top_user=pd.DataFrame(table9,columns=(\"States\",\"Years\",\"Quarters\",\"Pincode\",\"RegisteredUsers\"))"
   ]
  },
  {
   "cell_type": "code",
   "execution_count": 332,
   "metadata": {},
   "outputs": [],
   "source": [
    "#getting data from sql    \n",
    "def Top_Chart_Transaction_Amount(table_name):\n",
    "        #sql connection\n",
    "        mydb=psycopg2.connect(host=\"127.0.0.1\",\n",
    "                        user=\"postgres\",\n",
    "                        password=\"hari\",\n",
    "                        port=\"5432\",\n",
    "                        database=\"phonephedata\")\n",
    "        cursor=mydb.cursor()\n",
    "\n",
    "        #plot 1 TOP 10 order\n",
    "        query1=f'''SELECT states, SUM(transaction_amount) AS transaction_amount \n",
    "                FROM {table_name}\n",
    "                GROUP BY states\n",
    "                order by transaction_amount desc\n",
    "                limit 10;'''\n",
    "                \n",
    "        cursor.execute(query1)\n",
    "        table1=cursor.fetchall()\n",
    "        mydb.commit()\n",
    "\n",
    "        df1=pd.DataFrame(table1,columns=(\"states\",\"transaction_amount\"))\n",
    "\n",
    "        fig_amount1=px.bar(df1,x=\"states\",y=\"transaction_amount\",title=\"TOP 10 VALUES OF STATES VS TRANSACTION AMOUNT \",hover_name=\"states\",\n",
    "                        color_discrete_sequence=px.colors.sequential.Oranges_r,height=650,width=600)\n",
    "        fig_amount1.show()\n",
    "\n",
    "        #plot 2 LEAT 10 order\n",
    "        query2=f'''SELECT states, SUM(transaction_amount) AS transaction_amount \n",
    "                FROM {table_name}\n",
    "                GROUP BY states\n",
    "                order by transaction_amount\n",
    "                limit 10;'''\n",
    "                \n",
    "        cursor.execute(query2)\n",
    "        table2=cursor.fetchall()\n",
    "        mydb.commit()\n",
    "\n",
    "        df2=pd.DataFrame(table2,columns=(\"states\",\"transaction_amount\"))\n",
    "\n",
    "        fig_amount2=px.bar(df2,x=\"states\",y=\"transaction_amount\",title=\" LAST 10 VALUES OF STATES VS TRANSACTION AMOUNT \",hover_name=\"states\",\n",
    "                        color_discrete_sequence=px.colors.sequential.haline_r,height=650,width=600)\n",
    "        fig_amount2.show()\n",
    "\n",
    "\n",
    "        #plot 3 avg \n",
    "        query3=f'''SELECT states, AVG(transaction_amount) AS avg_transaction_amount \n",
    "                FROM {table_name}\n",
    "                GROUP BY states\n",
    "                order by avg_transaction_amount;'''\n",
    "                \n",
    "        cursor.execute(query3)\n",
    "        table3=cursor.fetchall()\n",
    "        mydb.commit()\n",
    "\n",
    "        df3=pd.DataFrame(table3,columns=(\"states\",\"avg_transaction_amount\"))\n",
    "\n",
    "        fig_amount3=px.bar(df3,y=\"states\",x=\"avg_transaction_amount\",title=\" AVERAGE VALUES OF  STATES VS TRANSACTION AMOUNT \",hover_name=\"states\",orientation='h',\n",
    "                        color_discrete_sequence=px.colors.sequential.Redor_r,height=650,width=600)\n",
    "        fig_amount3.show()\n",
    "\n"
   ]
  },
  {
   "cell_type": "code",
   "execution_count": 335,
   "metadata": {},
   "outputs": [],
   "source": [
    "#getting data from sql        \n",
    "def Top_Chart_Transaction_Count(table_name):\n",
    "        #sql connection\n",
    "        mydb=psycopg2.connect(host=\"127.0.0.1\",\n",
    "                        user=\"postgres\",\n",
    "                        password=\"hari\",\n",
    "                        port=\"5432\",\n",
    "                        database=\"phonephedata\")\n",
    "        cursor=mydb.cursor()\n",
    "\n",
    "        #plot 1 TOP 10 order\n",
    "        query1=f'''SELECT states, SUM(transaction_count) AS transaction_count \n",
    "                FROM {table_name}\n",
    "                GROUP BY states\n",
    "                order by transaction_count desc\n",
    "                limit 10;'''\n",
    "                \n",
    "        cursor.execute(query1)\n",
    "        table1=cursor.fetchall()\n",
    "        mydb.commit()\n",
    "\n",
    "        df1=pd.DataFrame(table1,columns=(\"states\",\"transaction_count\"))\n",
    "\n",
    "        fig_amount1=px.bar(df1,x=\"states\",y=\"transaction_count\",title=\"TOP 10 VALUES OF STATES VS TRANSACTION COUNT \",hover_name=\"states\",\n",
    "                        color_discrete_sequence=px.colors.sequential.Oranges_r,height=650,width=600)\n",
    "        fig_amount1.show()\n",
    "\n",
    "        #plot 2 LEATS 10 order\n",
    "        query2=f'''SELECT states, SUM(transaction_count) AS transaction_count \n",
    "                FROM {table_name}\n",
    "                GROUP BY states\n",
    "                order by transaction_count\n",
    "                limit 10;'''\n",
    "                \n",
    "        cursor.execute(query2)\n",
    "        table2=cursor.fetchall()\n",
    "        mydb.commit()\n",
    "\n",
    "        df2=pd.DataFrame(table2,columns=(\"states\",\"transaction_count\"))\n",
    "\n",
    "        fig_amount2=px.bar(df2,x=\"states\",y=\"transaction_count\",title=\" LAST 10 VALUES OF STATES VS TRANSACTION COUNT \",hover_name=\"states\",\n",
    "                        color_discrete_sequence=px.colors.sequential.haline_r,height=650,width=600)\n",
    "        fig_amount2.show()\n",
    "\n",
    "\n",
    "        #plot 3 avg \n",
    "        query3=f'''SELECT states, AVG(transaction_count) AS avg_transaction_count \n",
    "                FROM {table_name}\n",
    "                GROUP BY states\n",
    "                order by avg_transaction_count;'''\n",
    "                \n",
    "        cursor.execute(query3)\n",
    "        table3=cursor.fetchall()\n",
    "        mydb.commit()\n",
    "\n",
    "        df3=pd.DataFrame(table3,columns=(\"states\",\"avg_transaction_count\"))\n",
    "\n",
    "        fig_amount3=px.bar(df3,y=\"states\",x=\"avg_transaction_count\",title=\" AVERAGE VALUES OF  STATES VS TRANSACTION COUNT \",hover_name=\"states\",orientation='h',\n",
    "                        color_discrete_sequence=px.colors.sequential.Redor_r,height=650,width=600)\n",
    "        fig_amount3.show()\n",
    "\n"
   ]
  },
  {
   "cell_type": "code",
   "execution_count": 349,
   "metadata": {},
   "outputs": [],
   "source": [
    "#getting data from sql\n",
    "def Top_Chart_RegisteredUsers(table_name,state):\n",
    "    mydb=psycopg2.connect(host=\"127.0.0.1\",\n",
    "                        user=\"postgres\",\n",
    "                        password=\"hari\",\n",
    "                        port=\"5432\",\n",
    "                        database=\"phonephedata\")\n",
    "    cursor=mydb.cursor()\n",
    "\n",
    "    #plot_1 top 10 \n",
    "    query1= f'''SELECT districts, SUM(registeredusers) AS registeredusers\n",
    "                FROM {table_name}\n",
    "                WHERE states= '{state}'\n",
    "                GROUP BY districts\n",
    "                ORDER BY registeredusers DESC\n",
    "                LIMIT 10;'''\n",
    "\n",
    "    cursor.execute(query1)\n",
    "    table1= cursor.fetchall()\n",
    "    mydb.commit()\n",
    "\n",
    "    df1= pd.DataFrame(table1, columns=(\"districts\", \"registeredusers\"))\n",
    "\n",
    "\n",
    "    fig_ru1= px.bar(df1, x=\"districts\", y=\"registeredusers\", title=\"TOP 10 VALUES OF DISTRICTS VS REGISTERED USER\", hover_name= \"districts\",\n",
    "                        color_discrete_sequence=px.colors.sequential.Aggrnyl, height= 650,width= 600)\n",
    "    fig_ru1.show()\n",
    "\n",
    "    #plot2 least 10 values\n",
    "    query2= f'''SELECT districts, SUM(registeredusers) AS registeredusers\n",
    "                FROM {table_name}\n",
    "                WHERE states= '{state}'\n",
    "                GROUP BY districts\n",
    "                ORDER BY registeredusers \n",
    "                LIMIT 10;'''\n",
    "\n",
    "    cursor.execute(query2)\n",
    "    table2= cursor.fetchall()\n",
    "    mydb.commit()\n",
    "\n",
    "    df2= pd.DataFrame(table2, columns=(\"districts\", \"registeredusers\"))\n",
    "\n",
    "\n",
    "    fig_ru2= px.bar(df2, x=\"districts\", y=\"registeredusers\", title=\"LEAST 10 VALUES OF DISTRICTS VS REGISTERED USER\", hover_name= \"districts\",\n",
    "                        color_discrete_sequence=px.colors.sequential.Rainbow_r, height= 650,width= 600)\n",
    "    fig_ru2.show()\n",
    "\n",
    "    #plot 3 avg values\n",
    "    query3= f'''SELECT districts, AVG(registeredusers) AS avg_registeredusers\n",
    "                FROM {table_name}\n",
    "                WHERE states='{state}'\n",
    "                GROUP BY districts\n",
    "                ORDER BY avg_registeredusers \n",
    "                LIMIT 10;'''\n",
    "\n",
    "    cursor.execute(query3)\n",
    "    table3= cursor.fetchall()\n",
    "    mydb.commit()\n",
    "\n",
    "    df3= pd.DataFrame(table3, columns=(\"districts\", \"avg_registeredusers\"))\n",
    "\n",
    "\n",
    "    fig_ru3= px.bar(df3, y=\"districts\", x=\"avg_registeredusers\", title=\"AVG VALUES OF DISTRICTS VS REGISTERED USER\",orientation='h' ,hover_name= \"districts\",\n",
    "                        color_discrete_sequence=px.colors.sequential.Rainbow_r, height= 650,width= 600)\n",
    "    fig_ru3.show()\n",
    "\n"
   ]
  },
  {
   "cell_type": "code",
   "execution_count": 362,
   "metadata": {},
   "outputs": [],
   "source": [
    "#sql connection\n",
    "def Top_Chart_Appopens(table_name, state):\n",
    "    mydb=psycopg2.connect(host=\"127.0.0.1\",\n",
    "                        user=\"postgres\",\n",
    "                        password=\"hari\",\n",
    "                        port=\"5432\",\n",
    "                        database=\"phonephedata\")\n",
    "    cursor=mydb.cursor()\n",
    "\n",
    "    #plot_1 TOP 10 \n",
    "    query1= f'''SELECT districts, SUM(appopens) AS appopens\n",
    "                FROM {table_name}\n",
    "                WHERE states= '{state}'\n",
    "                GROUP BY districts\n",
    "                ORDER BY appopens DESC\n",
    "                LIMIT 10;'''\n",
    "\n",
    "    cursor.execute(query1)\n",
    "    table1= cursor.fetchall()\n",
    "    mydb.commit()\n",
    "\n",
    "    df1= pd.DataFrame(table1, columns=(\"districts\", \"appopens\"))\n",
    "\n",
    "\n",
    "    fig_apo= px.bar(df1, x=\"districts\", y=\"appopens\", title=\"TOP 10 VALUES OF APPOPENS VS DISTRICTS \", hover_name= \"districts\",\n",
    "                        color_discrete_sequence=px.colors.sequential.Aggrnyl, height= 650,width= 600)\n",
    "    fig_apo.show()\n",
    "\n",
    "    #plot_2 LEAST 10\n",
    "    query2= f'''SELECT districts, SUM(appopens) AS appopens\n",
    "                FROM {table_name}\n",
    "                WHERE states= '{state}'\n",
    "                GROUP BY districts\n",
    "                ORDER BY appopens\n",
    "                LIMIT 10;'''\n",
    "\n",
    "    cursor.execute(query2)\n",
    "    table2= cursor.fetchall()\n",
    "    mydb.commit()\n",
    "\n",
    "    df2= pd.DataFrame(table2, columns=(\"districts\", \"appopens\"))\n",
    "\n",
    "    \n",
    "\n",
    "    fig_apo2= px.bar(df2, x=\"districts\", y=\"appopens\", title=\"LAST 10 VALUES OF APPOPENS VS DISTRICTS\", hover_name= \"districts\",\n",
    "                        color_discrete_sequence=px.colors.sequential.Aggrnyl_r, height= 650,width= 600)\n",
    "    fig_apo2.show()\n",
    "\n",
    "    #plot_3\n",
    "    query3= f'''SELECT districts, AVG(appopens) AS avg_appopens\n",
    "                FROM {table_name}\n",
    "                WHERE states= '{state}'\n",
    "                GROUP BY districts\n",
    "                ORDER BY avg_appopens;'''\n",
    "\n",
    "    cursor.execute(query3)\n",
    "    table3= cursor.fetchall()\n",
    "    mydb.commit()\n",
    "\n",
    "    df3= pd.DataFrame(table3, columns=(\"districts\", \"avg_appopens\"))\n",
    "\n",
    "    fig_apo3= px.bar(df3, y=\"districts\", x=\"avg_appopens\", title=\"AVERAGE VALUES OF APPOPENS VS DISTRICTS\", hover_name= \"districts\", orientation= \"h\",\n",
    "                        color_discrete_sequence=px.colors.sequential.Bluered_r, height= 800,width= 1000)\n",
    "    fig_apo3.show()\n"
   ]
  },
  {
   "cell_type": "code",
   "execution_count": null,
   "metadata": {},
   "outputs": [],
   "source": [
    "Top_Chart_Appopens(\"map_user\",\"West Bengal\")"
   ]
  },
  {
   "cell_type": "code",
   "execution_count": 358,
   "metadata": {},
   "outputs": [],
   "source": [
    "#getting data from sql\n",
    "def Top_Chart_RegisteredUsers(table_name):\n",
    "    mydb=psycopg2.connect(host=\"127.0.0.1\",\n",
    "                        user=\"postgres\",\n",
    "                        password=\"hari\",\n",
    "                        port=\"5432\",\n",
    "                        database=\"phonephedata\")\n",
    "    cursor=mydb.cursor()\n",
    "\n",
    "    #plot_1 top 10 \n",
    "    query1= f'''SELECT states, SUM(registeredusers) AS registeredusers\n",
    "                FROM {table_name}\n",
    "                GROUP BY states\n",
    "                ORDER BY registeredusers DESC\n",
    "                LIMIT 10;'''\n",
    "\n",
    "    cursor.execute(query1)\n",
    "    table1= cursor.fetchall()\n",
    "    mydb.commit()\n",
    "\n",
    "    df1= pd.DataFrame(table1, columns=(\"states\", \"registeredusers\"))\n",
    "\n",
    "\n",
    "    fig_ru1= px.bar(df1, x=\"states\", y=\"registeredusers\", title=\"TOP 10 VALUES OF STATES VS REGISTERED USER\", hover_name= \"states\",\n",
    "                        color_discrete_sequence=px.colors.sequential.Aggrnyl, height= 650,width= 600)\n",
    "    fig_ru1.show()\n",
    "\n",
    "    #plot2 least 10 values\n",
    "    query2= f'''SELECT states, SUM(registeredusers) AS registeredusers\n",
    "                FROM {table_name}\n",
    "                GROUP BY states\n",
    "                ORDER BY registeredusers \n",
    "                LIMIT 10;'''\n",
    "\n",
    "    cursor.execute(query2)\n",
    "    table2= cursor.fetchall()\n",
    "    mydb.commit()\n",
    "\n",
    "    df2= pd.DataFrame(table2, columns=(\"states\", \"registeredusers\"))\n",
    "\n",
    "\n",
    "    fig_ru2= px.bar(df2, x=\"states\", y=\"registeredusers\", title=\"LEAST 10 VALUES OF STATES VS REGISTERED USER\", hover_name= \"states\",\n",
    "                        color_discrete_sequence=px.colors.sequential.Rainbow_r, height= 650,width= 600)\n",
    "    fig_ru2.show()\n",
    "\n",
    "    #plot 3 avg values\n",
    "    query3= f'''SELECT states, AVG(registeredusers) AS avg_registeredusers\n",
    "                FROM {table_name}\n",
    "                GROUP BY states\n",
    "                ORDER BY avg_registeredusers \n",
    "                LIMIT 10;'''\n",
    "\n",
    "    cursor.execute(query3)\n",
    "    table3= cursor.fetchall()\n",
    "    mydb.commit()\n",
    "\n",
    "    df3= pd.DataFrame(table3, columns=(\"states\", \"avg_registeredusers\"))\n",
    "\n",
    "\n",
    "    fig_ru3= px.bar(df3, y=\"states\", x=\"avg_registeredusers\", title=\"AVG VALUES OF STATES VS REGISTERED USER\",orientation='h' ,hover_name= \"states\",\n",
    "                        color_discrete_sequence=px.colors.sequential.Rainbow_r, height= 650,width= 600)\n",
    "    fig_ru3.show()\n",
    "\n"
   ]
  },
  {
   "cell_type": "code",
   "execution_count": 127,
   "metadata": {},
   "outputs": [],
   "source": [
    "#transaction analysis based on years\n",
    "def Transaction_amount_count_Y(df,year):\n",
    "    tacy= df[df[\"Years\"]==year]\n",
    "    tacy.reset_index(drop=True,inplace=True)\n",
    "\n",
    "    tacyg=tacy.groupby(\"States\")[[\"Transaction_count\",\"Transaction_amount\"]].sum()\n",
    "    tacyg.reset_index(inplace=True)\n",
    "\n",
    "    fig_amount=px.bar(tacyg,x=\"States\",y=\"Transaction_amount\",title=f\"{year} TRANSACTION AMOUNT\",\n",
    "                    color_discrete_sequence=px.colors.sequential.Oranges_r,height=650,width=600)\n",
    "    fig_amount.show()\n",
    "\n",
    "    fig_count=px.bar(tacyg,x=\"States\",y=\"Transaction_count\",title=f\"{year} TRANSACTION COUNT\",\n",
    "                    color_discrete_sequence=px.colors.sequential.YlGnBu_r,height=650,width=600)\n",
    "    fig_count.show()\n",
    "    \n",
    "    url=\"https://gist.githubusercontent.com/jbrobst/56c13bbbf9d97d187fea01ca62ea5112/raw/e388c4cae20aa53cb5090210a42ebb9b765c0a36/india_states.geojson\"\n",
    "    response=requests.get(url)\n",
    "    data1=json.loads(response.content)\n",
    "    states_name=[]\n",
    "    for feature in data1[\"features\"]:\n",
    "        states_name.append(feature[\"properties\"][\"ST_NM\"])\n",
    "    states_name.sort()\n",
    "        \n",
    "    fig_india_1=px.choropleth(tacyg,geojson=data1, locations=\"States\",featureidkey=\"properties.ST_NM\",\n",
    "                                color=\"Transaction_amount\",color_continuous_scale=\"twilight\",\n",
    "                                range_color= (tacyg[\"Transaction_amount\"].min(), tacyg[\"Transaction_amount\"].max()),\n",
    "                                hover_name=\"States\", title= f\"{year} TRANSACTION AMOUNT\", fitbounds=\"locations\",\n",
    "                                height=600,width=600)\n",
    "    fig_india_1.update_geos(visible=False)\n",
    "    fig_india_1.show()\n",
    "    \n",
    "    fig_india_2=px.choropleth(tacyg,geojson=data1, locations=\"States\",featureidkey=\"properties.ST_NM\",\n",
    "                                color=\"Transaction_count\",color_continuous_scale=\"twilight\",\n",
    "                                range_color= (tacyg[\"Transaction_count\"].min(), tacyg[\"Transaction_count\"].max()),\n",
    "                                hover_name=\"States\", title= f\"{year} TRANSACTION COUNT\", fitbounds=\"locations\",\n",
    "                                height=600,width=600)\n",
    "    fig_india_2.update_geos(visible=False)\n",
    "    fig_india_2.show()\n",
    "    \n",
    "    return tacy"
   ]
  },
  {
   "cell_type": "code",
   "execution_count": 129,
   "metadata": {},
   "outputs": [],
   "source": [
    "#transaction analysis based on quarters\n",
    "def Transaction_amount_count_Y_Q(df,quarter):\n",
    "    tacy= df[df[\"Quarters\"]==quarter]\n",
    "    tacy.reset_index(drop=True,inplace=True)\n",
    "\n",
    "    tacyg=tacy.groupby(\"States\")[[\"Transaction_count\",\"Transaction_amount\"]].sum()\n",
    "    tacyg.reset_index(inplace=True)\n",
    "\n",
    "\n",
    "    fig_amount=px.bar(tacyg,x=\"States\",y=\"Transaction_amount\",title=f\"{tacy['Years'].unique()[0]} YEAR {quarter} QUARTER TRANSACTION AMOUNT\",\n",
    "                    color_discrete_sequence=px.colors.sequential.Oranges_r,height=650,width=600)\n",
    "    fig_amount.show()\n",
    "\n",
    "    fig_count=px.bar(tacyg,x=\"States\",y=\"Transaction_count\",title=f\"{tacy['Years'].unique()[0]} YEAR {quarter} QUARTER TRANSACTION COUNT\",\n",
    "                    color_discrete_sequence=px.colors.sequential.YlGnBu_r,height=650,width=600)\n",
    "    fig_count.show()\n",
    "    \n",
    "    url=\"https://gist.githubusercontent.com/jbrobst/56c13bbbf9d97d187fea01ca62ea5112/raw/e388c4cae20aa53cb5090210a42ebb9b765c0a36/india_states.geojson\"\n",
    "    response=requests.get(url)\n",
    "    data1=json.loads(response.content)\n",
    "    states_name=[]\n",
    "    for feature in data1[\"features\"]:\n",
    "        states_name.append(feature[\"properties\"][\"ST_NM\"])\n",
    "    states_name.sort()\n",
    "        \n",
    "    fig_india_1=px.choropleth(tacyg,geojson=data1, locations=\"States\",featureidkey=\"properties.ST_NM\",\n",
    "                                color=\"Transaction_amount\",color_continuous_scale=\"twilight\",\n",
    "                                range_color= (tacyg[\"Transaction_amount\"].min(), tacyg[\"Transaction_amount\"].max()),\n",
    "                                hover_name=\"States\", title= f\"{tacy['Years'].unique()[0]} YEAR {quarter} QUARTER TRANSACTION AMOUNT\", fitbounds=\"locations\",\n",
    "                                height=600,width=600)\n",
    "    fig_india_1.update_geos(visible=False)\n",
    "    fig_india_1.show()\n",
    "    \n",
    "    fig_india_2=px.choropleth(tacyg,geojson=data1, locations=\"States\",featureidkey=\"properties.ST_NM\",\n",
    "                                color=\"Transaction_count\",color_continuous_scale=\"twilight\",\n",
    "                                range_color= (tacyg[\"Transaction_count\"].min(), tacyg[\"Transaction_count\"].max()),\n",
    "                                hover_name=\"States\", title= f\"{tacy['Years'].unique()[0]} YEAR {quarter} QUARTER TRANSACTION COUNT\", fitbounds=\"locations\",\n",
    "                                height=600,width=600)\n",
    "    fig_india_2.update_geos(visible=False)\n",
    "    fig_india_2.show()\n",
    "    \n",
    "    return tacy\n",
    "    "
   ]
  },
  {
   "cell_type": "code",
   "execution_count": 153,
   "metadata": {},
   "outputs": [],
   "source": [
    "#transaction type\n",
    "def Agg_Trans_Transaction_type(df,state):\n",
    "\n",
    "    tacy= df[df[\"States\"]==state]\n",
    "    tacy.reset_index(drop=True,inplace=True)\n",
    "\n",
    "    tacyg=tacy.groupby(\"Transaction_type\")[[\"Transaction_count\",\"Transaction_amount\"]].sum()\n",
    "    tacyg.reset_index(inplace=True)\n",
    "\n",
    "    fig_pie1=px.pie(data_frame=tacyg,names= \"Transaction_type\",values=\"Transaction_amount\",\n",
    "                width=600,title=f\"{state.upper()} TRANSACTION AMOUNT\",hole=0.4)\n",
    "    fig_pie1.show()\n",
    "\n",
    "    fig_pie2=px.pie(data_frame=tacyg,names= \"Transaction_type\",values=\"Transaction_count\",\n",
    "                width=600,title=f\"{state.upper()} TRANSACTION COUNT\",hole=0.4)\n",
    "    fig_pie2.show()"
   ]
  },
  {
   "cell_type": "code",
   "execution_count": 131,
   "metadata": {},
   "outputs": [],
   "source": [
    "#Agg user analysis1\n",
    "def Agg_Uer_Plot1(df,year):\n",
    "    aguy=df[df[\"Years\"]==year]\n",
    "    aguy.reset_index(drop=True,inplace=True)\n",
    "    aguyg=pd.DataFrame(aguy.groupby(\"Brands\")[\"Transaction_count\"].sum())\n",
    "    aguyg.reset_index(inplace=True)\n",
    "\n",
    "    fig_bar1=px.bar(aguyg,x=\"Brands\",y=\"Transaction_count\",title=f\"{year} th BRANDS AND TRANSACTION COUNT\",\n",
    "                    width=1100,color_discrete_sequence=px.colors.sequential.Oranges_r, hover_name=\"Brands\")\n",
    "    fig_bar1.show()\n",
    "    \n",
    "    return aguy"
   ]
  },
  {
   "cell_type": "code",
   "execution_count": 132,
   "metadata": {},
   "outputs": [],
   "source": [
    "## Agg user analysis 2\n",
    "def Agg_User_Plot2(df,quarter):\n",
    "    aguyq=df[df[\"Quarters\"]==quarter]\n",
    "    aguyq.reset_index(drop=True,inplace=True)\n",
    "    aguyqg=pd.DataFrame(aguyq.groupby(\"Brands\")[\"Transaction_count\"].sum())\n",
    "    aguyqg.reset_index(inplace=True)\n",
    "\n",
    "    fig_bar1=px.bar(aguyqg,x=\"Brands\",y=\"Transaction_count\",title=f\"{quarter} QUARTER BRANDS AND TRANSACTION COUNT\",\n",
    "                        width=1100,color_discrete_sequence=px.colors.sequential.Oranges_r, hover_name=\"Brands\")\n",
    "    fig_bar1.show()\n",
    "    \n",
    "    return aguyq"
   ]
  },
  {
   "cell_type": "code",
   "execution_count": 212,
   "metadata": {},
   "outputs": [],
   "source": [
    "#Agg user analysis 3\n",
    "def Agg_User_Plot3(df,state):\n",
    "    auyqs=df[df[\"States\"]==state]\n",
    "    auyqs.reset_index(drop=True,inplace=True)\n",
    "\n",
    "    fig_line_1=px.line(auyqs,x=\"Brands\",y=\"Transaction_count\",hover_data=[\"Percentage\"],\n",
    "                        title= f\"{state.upper()} BRANDS VS PERCENTAGE & TRANSACTION COUNT\",color_discrete_sequence=px.colors.sequential.Viridis_r,\n",
    "                        width=1000,markers=True)\n",
    "    fig_line_1.show()"
   ]
  },
  {
   "cell_type": "code",
   "execution_count": null,
   "metadata": {},
   "outputs": [],
   "source": [
    "#map insurance district \n",
    "def Map_Insur_District(df,state):\n",
    "\n",
    "    tacy= df[df[\"States\"]==state]\n",
    "    tacy.reset_index(drop=True,inplace=True)\n",
    "\n",
    "    tacyg=tacy.groupby(\"District\")[[\"Transaction_count\",\"Transaction_amount\"]].sum()\n",
    "    tacyg.reset_index(inplace=True)\n",
    "\n",
    "    fig_bar1=px.bar(tacyg, x=\"Transaction_amount\",y=\"District\", orientation=\"h\",\n",
    "                    title= f\"{state.upper()} DISTRICT VS TRANSACTON AMOUNT\",color_discrete_sequence=px.colors.sequential.Rainbow_r)\n",
    "    fig_bar1.show()\n",
    "\n",
    "    fig_bar2=px.bar(tacyg, x=\"Transaction_count\",y=\"District\", orientation=\"h\",\n",
    "                    title= f\"{state.upper()} DISTRICT VS TRANSACTON COUNT\",color_discrete_sequence=px.colors.sequential.Greens_r)\n",
    "    fig_bar2.show()"
   ]
  },
  {
   "cell_type": "code",
   "execution_count": 225,
   "metadata": {},
   "outputs": [],
   "source": [
    "#map user plot1 \n",
    "def Map_User_plot1(df,year):\n",
    "    muy=df[df[\"Years\"]==year]\n",
    "    muy.reset_index(drop=True,inplace=True)\n",
    "    muyg=muy.groupby(\"States\")[[\"RegisteredUsers\",\"AppOpens\"]].sum()\n",
    "    muyg.reset_index(inplace=True)\n",
    "\n",
    "    fig_line_1=px.line(muyg,x=\"States\",y=[\"RegisteredUsers\",\"AppOpens\"],\n",
    "                            title=f\"{year} STATE VS REGISTERED USERS & APP OPENS\",color_discrete_sequence=px.colors.sequential.Viridis_r,\n",
    "                            width=1000,height=800,markers=True)\n",
    "    fig_line_1.show()\n",
    "    \n",
    "    return muy"
   ]
  },
  {
   "cell_type": "code",
   "execution_count": 238,
   "metadata": {},
   "outputs": [],
   "source": [
    "#map user plot2 \n",
    "def Map_User_plot2(df,quarter):\n",
    "    muyq=df[df[\"Quarters\"]==quarter]\n",
    "    muyq.reset_index(drop=True,inplace=True)\n",
    "    muyqg=muyq.groupby(\"States\")[[\"RegisteredUsers\",\"AppOpens\"]].sum()\n",
    "    muyqg.reset_index(inplace=True)\n",
    "\n",
    "    fig_line_1=px.line(muyqg,x=\"States\",y=[\"RegisteredUsers\",\"AppOpens\"],\n",
    "                            title=f\"{df['Years'].min()} YEAR {quarter} QUARTER STATE VS REGISTERED USERS & APP OPENS\",color_discrete_sequence=px.colors.sequential.Viridis_r,\n",
    "                            width=1000,height=800,markers=True)\n",
    "    fig_line_1.show()\n",
    "    \n",
    "    return muyq"
   ]
  },
  {
   "cell_type": "code",
   "execution_count": 249,
   "metadata": {},
   "outputs": [],
   "source": [
    "#Map user plot 3\n",
    "def Map_User_plot3(df,state):\n",
    "    muyqs=df[df[\"States\"]==state]\n",
    "    muyqs.reset_index(drop=True,inplace=True)\n",
    "\n",
    "    fig_map_userbar1=px.bar(muyqs,x=\"RegisteredUsers\",y=\"District\",orientation=\"h\",title=\"REGISTERED USERS VS DISTRICT\",\n",
    "                            height=800,color_discrete_sequence=px.colors.sequential.Greens_r)\n",
    "    fig_map_userbar1.show()\n",
    "\n",
    "    fig_map_userbar2=px.bar(muyqs,x=\"AppOpens\",y=\"District\",orientation=\"h\",title=\"APP OPENS VS DISTRICT\",\n",
    "                            height=800,color_discrete_sequence=px.colors.sequential.Reds_r)\n",
    "    fig_map_userbar2.show()"
   ]
  },
  {
   "cell_type": "code",
   "execution_count": 275,
   "metadata": {},
   "outputs": [],
   "source": [
    "# top insurance plot 1\n",
    "def Top_Insurance_plot1(df,state):   \n",
    "    tiy=df[df[\"States\"]==state]\n",
    "    tiy.reset_index(drop=True,inplace=True)\n",
    "\n",
    "    fig_top_insurbar1=px.bar(tiy,x=\"Quarters\",y=\"Transaction_amount\", hover_data=[\"Pincode\"],title=\"TRANSACTION AMOUNT VS PINCODE\",\n",
    "                                height=800,color_discrete_sequence=px.colors.sequential.Greens_r)\n",
    "    fig_top_insurbar1.show()\n",
    "    \n",
    "    fig_top_insurbar2=px.bar(tiy,x=\"Quarters\",y=\"Transaction_count\", hover_data=[\"Pincode\"],title=\"TRANSACTION COUNT VS PINCODE\",\n",
    "                                height=800,color_discrete_sequence=px.colors.sequential.Greens_r)\n",
    "    fig_top_insurbar2.show()"
   ]
  },
  {
   "cell_type": "code",
   "execution_count": null,
   "metadata": {},
   "outputs": [],
   "source": [
    "#top user plot1\n",
    "def Top_User_plot1(df,year):\n",
    "    tuy=df[df[\"Years\"]==year]\n",
    "    tuy.reset_index(drop=True,inplace=True)\n",
    "    tuyg=pd.DataFrame(tuy.groupby([\"States\",\"Quarters\"])[\"RegisteredUsers\"].sum())\n",
    "    tuyg.reset_index(inplace=True)\n",
    "\n",
    "\n",
    "    fig_top_plot1=px.bar(tuyg,x=\"States\",y=\"RegisteredUsers\", color=\"Quarters\",title=f\"{year} YEAR STATES VS REGISTERED USERS\",\n",
    "                                height=800,width=600,color_discrete_sequence=px.colors.sequential.Greens_r,hover_name=\"States\")\n",
    "    fig_top_plot1.show()\n",
    "    \n",
    "    return tuy"
   ]
  },
  {
   "cell_type": "code",
   "execution_count": 302,
   "metadata": {},
   "outputs": [],
   "source": [
    "#Top user plot 2   \n",
    "def Top_User_plot2(df,state):\n",
    "    tuys=df[df[\"States\"]==state]\n",
    "    tuys.reset_index(drop=True,inplace=True)\n",
    "\n",
    "    fig_top_plot2=px.bar(tuys,x=\"Quarters\",y=\"RegisteredUsers\",title=\"REGISTERED USERS, PINCODES VS QUATERS\",\n",
    "                                    height=800,width=600,color=\"RegisteredUsers\",color_continuous_scale=px.colors.sequential.Emrld_r,hover_data=[\"Pincode\"])\n",
    "    fig_top_plot2.show()"
   ]
  },
  {
   "cell_type": "markdown",
   "metadata": {},
   "source": [
    "## Aggreated Insurance"
   ]
  },
  {
   "cell_type": "code",
   "execution_count": null,
   "metadata": {},
   "outputs": [],
   "source": [
    "tac_Y=Transaction_amount_count_Y(Agg_insurance,2021)"
   ]
  },
  {
   "cell_type": "code",
   "execution_count": null,
   "metadata": {},
   "outputs": [],
   "source": [
    "Transaction_amount_count_Y_Q(tac_Y,3)"
   ]
  },
  {
   "cell_type": "markdown",
   "metadata": {},
   "source": [
    "## Aggregated Transaction"
   ]
  },
  {
   "cell_type": "code",
   "execution_count": null,
   "metadata": {},
   "outputs": [],
   "source": [
    "Agg_tran_tac_Y=Transaction_amount_count_Y(Agg_transaction,2018)"
   ]
  },
  {
   "cell_type": "code",
   "execution_count": null,
   "metadata": {},
   "outputs": [],
   "source": [
    "Agg_Trans_Transaction_type(Agg_tran_tac_Y,'Tamil Nadu')"
   ]
  },
  {
   "cell_type": "code",
   "execution_count": null,
   "metadata": {},
   "outputs": [],
   "source": [
    "Agg_tran_tac_Y_Q=Transaction_amount_count_Y_Q(Agg_tran_tac_Y,3)"
   ]
  },
  {
   "cell_type": "code",
   "execution_count": null,
   "metadata": {},
   "outputs": [],
   "source": [
    "Agg_Trans_Transaction_type(Agg_tran_tac_Y_Q,'Tamil Nadu')"
   ]
  },
  {
   "cell_type": "markdown",
   "metadata": {},
   "source": [
    "## Aggregated User"
   ]
  },
  {
   "cell_type": "code",
   "execution_count": null,
   "metadata": {},
   "outputs": [],
   "source": [
    "Agg_User_Y=Agg_Uer_Plot1(Agg_user,2020)"
   ]
  },
  {
   "cell_type": "code",
   "execution_count": null,
   "metadata": {},
   "outputs": [],
   "source": [
    "Agg_User_Y_Q=Agg_User_Plot2(Agg_User_Y,2)"
   ]
  },
  {
   "cell_type": "code",
   "execution_count": null,
   "metadata": {},
   "outputs": [],
   "source": [
    "Agg_User_Plot3(Agg_User_Y_Q,\"Tamil Nadu\")"
   ]
  },
  {
   "cell_type": "markdown",
   "metadata": {},
   "source": [
    "## Map Insurance"
   ]
  },
  {
   "cell_type": "code",
   "execution_count": null,
   "metadata": {},
   "outputs": [],
   "source": [
    "Map_Insur_tac_Y=Transaction_amount_count_Y(Map_insurance,2022)"
   ]
  },
  {
   "cell_type": "code",
   "execution_count": null,
   "metadata": {},
   "outputs": [],
   "source": [
    "Map_Insur_District(Map_Insur_tac_Y,'West Bengal')"
   ]
  },
  {
   "cell_type": "code",
   "execution_count": null,
   "metadata": {},
   "outputs": [],
   "source": [
    "Map_Insur_tac_Y_Q=Transaction_amount_count_Y_Q(Map_Insur_tac_Y,3)"
   ]
  },
  {
   "cell_type": "code",
   "execution_count": null,
   "metadata": {},
   "outputs": [],
   "source": [
    "Map_Insur_District(Map_Insur_tac_Y_Q,'Tamil Nadu')"
   ]
  },
  {
   "cell_type": "markdown",
   "metadata": {},
   "source": [
    "## Map Transaction"
   ]
  },
  {
   "cell_type": "code",
   "execution_count": null,
   "metadata": {},
   "outputs": [],
   "source": [
    "Map_Trans_tac_Y=Transaction_amount_count_Y(Map_transaction,2018)"
   ]
  },
  {
   "cell_type": "code",
   "execution_count": null,
   "metadata": {},
   "outputs": [],
   "source": [
    "Map_Insur_District(Map_Trans_tac_Y,'West Bengal')"
   ]
  },
  {
   "cell_type": "code",
   "execution_count": null,
   "metadata": {},
   "outputs": [],
   "source": [
    "Map_Trans_tac_Y_Q=Transaction_amount_count_Y_Q(Map_Trans_tac_Y,3)"
   ]
  },
  {
   "cell_type": "code",
   "execution_count": null,
   "metadata": {},
   "outputs": [],
   "source": [
    "Map_Insur_District(Map_Trans_tac_Y_Q,'Tamil Nadu')"
   ]
  },
  {
   "cell_type": "markdown",
   "metadata": {},
   "source": [
    "## Map User"
   ]
  },
  {
   "cell_type": "code",
   "execution_count": null,
   "metadata": {},
   "outputs": [],
   "source": [
    "Map_User_Y=Map_User_plot1(Map_user,2020)"
   ]
  },
  {
   "cell_type": "code",
   "execution_count": null,
   "metadata": {},
   "outputs": [],
   "source": [
    "Map_User_Y_Q=Map_User_plot2(Map_User_Y,2)"
   ]
  },
  {
   "cell_type": "code",
   "execution_count": null,
   "metadata": {},
   "outputs": [],
   "source": [
    "Map_User_plot3(Map_User_Y_Q,\"Tamil Nadu\")"
   ]
  },
  {
   "cell_type": "markdown",
   "metadata": {},
   "source": [
    "## Top Insurance\n"
   ]
  },
  {
   "cell_type": "code",
   "execution_count": null,
   "metadata": {},
   "outputs": [],
   "source": [
    "Top_Insur_tac_Y=Transaction_amount_count_Y(Top_insurance,2022)"
   ]
  },
  {
   "cell_type": "code",
   "execution_count": null,
   "metadata": {},
   "outputs": [],
   "source": [
    "Top_Insurance_plot1(Top_Insur_tac_Y,\"West Bengal\")"
   ]
  },
  {
   "cell_type": "code",
   "execution_count": null,
   "metadata": {},
   "outputs": [],
   "source": [
    "Top_Insur_tac_Y_Q=Transaction_amount_count_Y_Q(Top_Insur_tac_Y,3)"
   ]
  },
  {
   "cell_type": "markdown",
   "metadata": {},
   "source": [
    "## Top Transaction"
   ]
  },
  {
   "cell_type": "code",
   "execution_count": null,
   "metadata": {},
   "outputs": [],
   "source": [
    "Top_Trans_tac_Y=Transaction_amount_count_Y(Top_transaction,2022)"
   ]
  },
  {
   "cell_type": "code",
   "execution_count": null,
   "metadata": {},
   "outputs": [],
   "source": [
    "Top_Insurance_plot1(Top_Trans_tac_Y,\"West Bengal\")"
   ]
  },
  {
   "cell_type": "code",
   "execution_count": null,
   "metadata": {},
   "outputs": [],
   "source": [
    "Top_Trans_tac_Y_Q=Transaction_amount_count_Y_Q(Top_Trans_tac_Y,3)"
   ]
  },
  {
   "cell_type": "markdown",
   "metadata": {},
   "source": [
    "## Top User"
   ]
  },
  {
   "cell_type": "code",
   "execution_count": null,
   "metadata": {},
   "outputs": [],
   "source": [
    "Top_User_Y=Top_User_plot1(Top_user,2021)"
   ]
  },
  {
   "cell_type": "code",
   "execution_count": null,
   "metadata": {},
   "outputs": [],
   "source": [
    "Top_User_plot2(Top_User_Y,\"West Bengal\")"
   ]
  }
 ],
 "metadata": {
  "kernelspec": {
   "display_name": "Python 3",
   "language": "python",
   "name": "python3"
  },
  "language_info": {
   "codemirror_mode": {
    "name": "ipython",
    "version": 3
   },
   "file_extension": ".py",
   "mimetype": "text/x-python",
   "name": "python",
   "nbconvert_exporter": "python",
   "pygments_lexer": "ipython3",
   "version": "3.11.7"
  }
 },
 "nbformat": 4,
 "nbformat_minor": 2
}
